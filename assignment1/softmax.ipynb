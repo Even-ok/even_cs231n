{
 "cells": [
  {
   "cell_type": "markdown",
   "metadata": {
    "tags": [
     "pdf-title"
    ]
   },
   "source": [
    "# Softmax exercise\n",
    "\n",
    "*Complete and hand in this completed worksheet (including its outputs and any supporting code outside of the worksheet) with your assignment submission. For more details see the [assignments page](http://vision.stanford.edu/teaching/cs231n/assignments.html) on the course website.*\n",
    "\n",
    "This exercise is analogous to the SVM exercise. You will:\n",
    "\n",
    "- implement a fully-vectorized **loss function** for the Softmax classifier\n",
    "- implement the fully-vectorized expression for its **analytic gradient**\n",
    "- **check your implementation** with numerical gradient\n",
    "- use a validation set to **tune the learning rate and regularization** strength\n",
    "- **optimize** the loss function with **SGD**\n",
    "- **visualize** the final learned weights\n"
   ]
  },
  {
   "cell_type": "code",
   "execution_count": 1,
   "metadata": {
    "tags": [
     "pdf-ignore"
    ]
   },
   "outputs": [],
   "source": [
    "import random\n",
    "import numpy as np\n",
    "from cs231n.data_utils import load_CIFAR10\n",
    "import matplotlib.pyplot as plt\n",
    "\n",
    "%matplotlib inline\n",
    "plt.rcParams['figure.figsize'] = (10.0, 8.0) # set default size of plots\n",
    "plt.rcParams['image.interpolation'] = 'nearest'\n",
    "plt.rcParams['image.cmap'] = 'gray'\n",
    "\n",
    "# for auto-reloading extenrnal modules\n",
    "# see http://stackoverflow.com/questions/1907993/autoreload-of-modules-in-ipython\n",
    "%load_ext autoreload\n",
    "%autoreload 2"
   ]
  },
  {
   "cell_type": "code",
   "execution_count": 2,
   "metadata": {
    "tags": [
     "pdf-ignore"
    ]
   },
   "outputs": [
    {
     "name": "stdout",
     "output_type": "stream",
     "text": [
      "Train data shape:  (49000, 3073)\n",
      "Train labels shape:  (49000,)\n",
      "Validation data shape:  (1000, 3073)\n",
      "Validation labels shape:  (1000,)\n",
      "Test data shape:  (1000, 3073)\n",
      "Test labels shape:  (1000,)\n",
      "dev data shape:  (500, 3073)\n",
      "dev labels shape:  (500,)\n"
     ]
    }
   ],
   "source": [
    "def get_CIFAR10_data(num_training=49000, num_validation=1000, num_test=1000, num_dev=500):\n",
    "    \"\"\"\n",
    "    Load the CIFAR-10 dataset from disk and perform preprocessing to prepare\n",
    "    it for the linear classifier. These are the same steps as we used for the\n",
    "    SVM, but condensed to a single function.  \n",
    "    \"\"\"\n",
    "    # Load the raw CIFAR-10 data\n",
    "    cifar10_dir = 'cs231n/datasets/cifar-10-batches-py'\n",
    "    \n",
    "    # Cleaning up variables to prevent loading data multiple times (which may cause memory issue)\n",
    "    try:\n",
    "       del X_train, y_train\n",
    "       del X_test, y_test\n",
    "       print('Clear previously loaded data.')\n",
    "    except:\n",
    "       pass\n",
    "\n",
    "    X_train, y_train, X_test, y_test = load_CIFAR10(cifar10_dir)\n",
    "    \n",
    "    # subsample the data\n",
    "    mask = list(range(num_training, num_training + num_validation))\n",
    "    X_val = X_train[mask]\n",
    "    y_val = y_train[mask]\n",
    "    mask = list(range(num_training))\n",
    "    X_train = X_train[mask]\n",
    "    y_train = y_train[mask]\n",
    "    mask = list(range(num_test))\n",
    "    X_test = X_test[mask]\n",
    "    y_test = y_test[mask]\n",
    "    mask = np.random.choice(num_training, num_dev, replace=False)\n",
    "    X_dev = X_train[mask]\n",
    "    y_dev = y_train[mask]\n",
    "    \n",
    "    # Preprocessing: reshape the image data into rows\n",
    "    X_train = np.reshape(X_train, (X_train.shape[0], -1))\n",
    "    X_val = np.reshape(X_val, (X_val.shape[0], -1))\n",
    "    X_test = np.reshape(X_test, (X_test.shape[0], -1))\n",
    "    X_dev = np.reshape(X_dev, (X_dev.shape[0], -1))\n",
    "    \n",
    "    # Normalize the data: subtract the mean image\n",
    "    mean_image = np.mean(X_train, axis = 0)\n",
    "    X_train -= mean_image\n",
    "    X_val -= mean_image\n",
    "    X_test -= mean_image\n",
    "    X_dev -= mean_image\n",
    "    \n",
    "    # add bias dimension and transform into columns\n",
    "    X_train = np.hstack([X_train, np.ones((X_train.shape[0], 1))])\n",
    "    X_val = np.hstack([X_val, np.ones((X_val.shape[0], 1))])\n",
    "    X_test = np.hstack([X_test, np.ones((X_test.shape[0], 1))])\n",
    "    X_dev = np.hstack([X_dev, np.ones((X_dev.shape[0], 1))])\n",
    "    \n",
    "    return X_train, y_train, X_val, y_val, X_test, y_test, X_dev, y_dev\n",
    "\n",
    "\n",
    "# Invoke the above function to get our data.\n",
    "X_train, y_train, X_val, y_val, X_test, y_test, X_dev, y_dev = get_CIFAR10_data()\n",
    "print('Train data shape: ', X_train.shape)\n",
    "print('Train labels shape: ', y_train.shape)\n",
    "print('Validation data shape: ', X_val.shape)\n",
    "print('Validation labels shape: ', y_val.shape)\n",
    "print('Test data shape: ', X_test.shape)\n",
    "print('Test labels shape: ', y_test.shape)\n",
    "print('dev data shape: ', X_dev.shape)\n",
    "print('dev labels shape: ', y_dev.shape)"
   ]
  },
  {
   "cell_type": "markdown",
   "metadata": {},
   "source": [
    "## Softmax Classifier\n",
    "\n",
    "Your code for this section will all be written inside `cs231n/classifiers/softmax.py`.\n"
   ]
  },
  {
   "cell_type": "code",
   "execution_count": 3,
   "metadata": {},
   "outputs": [
    {
     "name": "stdout",
     "output_type": "stream",
     "text": [
      "loss: 2.385019\n",
      "sanity check: 2.302585\n"
     ]
    }
   ],
   "source": [
    "# First implement the naive softmax loss function with nested loops.\n",
    "# Open the file cs231n/classifiers/softmax.py and implement the\n",
    "# softmax_loss_naive function.\n",
    "\n",
    "from cs231n.classifiers.softmax import softmax_loss_naive\n",
    "import time\n",
    "\n",
    "# Generate a random softmax weight matrix and use it to compute the loss.\n",
    "W = np.random.randn(3073, 10) * 0.0001\n",
    "loss, grad = softmax_loss_naive(W, X_dev, y_dev, 0.0)\n",
    "\n",
    "# As a rough sanity check, our loss should be something close to -log(0.1).\n",
    "print('loss: %f' % loss)\n",
    "print('sanity check: %f' % (-np.log(0.1)))"
   ]
  },
  {
   "cell_type": "markdown",
   "metadata": {
    "tags": [
     "pdf-inline"
    ]
   },
   "source": [
    "**Inline Question 1**\n",
    "\n",
    "Why do we expect our loss to be close to -log(0.1)? Explain briefly.**\n",
    "\n",
    "$\\color{blue}{\\textit Your Answer:}$ *Fill this in* \n",
    "\n",
    "因为W是随机生成的，对于每一类预测的概率应该是一样的，也就是1/10，所以说对于每一类的交叉熵应该为-log(0.1), 与loss相同"
   ]
  },
  {
   "cell_type": "code",
   "execution_count": 4,
   "metadata": {},
   "outputs": [
    {
     "name": "stdout",
     "output_type": "stream",
     "text": [
      "numerical: -2.425386 analytic: -2.425386, relative error: 9.722980e-09\n",
      "numerical: -0.327057 analytic: -0.327057, relative error: 3.606077e-08\n",
      "numerical: -2.331028 analytic: -2.331028, relative error: 9.099078e-09\n",
      "numerical: 0.812018 analytic: 0.812018, relative error: 1.627195e-08\n",
      "numerical: 1.873972 analytic: 1.873972, relative error: 1.611740e-09\n",
      "numerical: -1.862097 analytic: -1.862097, relative error: 1.532598e-08\n",
      "numerical: -1.961113 analytic: -1.961113, relative error: 3.442212e-08\n",
      "numerical: -1.194327 analytic: -1.194327, relative error: 3.798209e-08\n",
      "numerical: -0.096834 analytic: -0.096834, relative error: 1.266131e-07\n",
      "numerical: -0.051809 analytic: -0.051809, relative error: 4.406543e-07\n",
      "numerical: -1.615879 analytic: -1.615879, relative error: 2.571398e-08\n",
      "numerical: 1.067811 analytic: 1.067811, relative error: 1.395339e-08\n",
      "numerical: 3.395132 analytic: 3.395132, relative error: 1.685541e-08\n",
      "numerical: -0.479870 analytic: -0.479870, relative error: 9.023680e-08\n",
      "numerical: 1.730693 analytic: 1.730693, relative error: 3.345163e-08\n",
      "numerical: -1.234742 analytic: -1.234742, relative error: 2.142566e-08\n",
      "numerical: 2.301051 analytic: 2.301051, relative error: 1.571042e-08\n",
      "numerical: 2.000084 analytic: 2.000084, relative error: 1.053447e-08\n",
      "numerical: 2.382510 analytic: 2.382510, relative error: 3.437463e-09\n",
      "numerical: -0.367366 analytic: -0.367366, relative error: 1.111074e-07\n"
     ]
    }
   ],
   "source": [
    "# Complete the implementation of softmax_loss_naive and implement a (naive)\n",
    "# version of the gradient that uses nested loops.\n",
    "loss, grad = softmax_loss_naive(W, X_dev, y_dev, 0.0)\n",
    "\n",
    "# As we did for the SVM, use numeric gradient checking as a debugging tool.\n",
    "# The numeric gradient should be close to the analytic gradient.\n",
    "from cs231n.gradient_check import grad_check_sparse\n",
    "f = lambda w: softmax_loss_naive(w, X_dev, y_dev, 0.0)[0]\n",
    "grad_numerical = grad_check_sparse(f, W, grad, 10)\n",
    "\n",
    "# similar to SVM case, do another gradient check with regularization\n",
    "loss, grad = softmax_loss_naive(W, X_dev, y_dev, 5e1)\n",
    "f = lambda w: softmax_loss_naive(w, X_dev, y_dev, 5e1)[0]\n",
    "grad_numerical = grad_check_sparse(f, W, grad, 10)"
   ]
  },
  {
   "cell_type": "code",
   "execution_count": 5,
   "metadata": {},
   "outputs": [
    {
     "name": "stdout",
     "output_type": "stream",
     "text": [
      "naive loss: 2.385019e+00 computed in 0.084019s\n",
      "vectorized loss: 2.385019e+00 computed in 0.003001s\n",
      "Loss difference: 0.000000\n",
      "Gradient difference: 0.000000\n"
     ]
    }
   ],
   "source": [
    "# Now that we have a naive implementation of the softmax loss function and its gradient,\n",
    "# implement a vectorized version in softmax_loss_vectorized.\n",
    "# The two versions should compute the same results, but the vectorized version should be\n",
    "# much faster.\n",
    "tic = time.time()\n",
    "loss_naive, grad_naive = softmax_loss_naive(W, X_dev, y_dev, 0.000005)\n",
    "toc = time.time()\n",
    "print('naive loss: %e computed in %fs' % (loss_naive, toc - tic))\n",
    "\n",
    "from cs231n.classifiers.softmax import softmax_loss_vectorized\n",
    "tic = time.time()\n",
    "loss_vectorized, grad_vectorized = softmax_loss_vectorized(W, X_dev, y_dev, 0.000005)\n",
    "toc = time.time()\n",
    "print('vectorized loss: %e computed in %fs' % (loss_vectorized, toc - tic))\n",
    "\n",
    "# As we did for the SVM, we use the Frobenius norm to compare the two versions\n",
    "# of the gradient.\n",
    "grad_difference = np.linalg.norm(grad_naive - grad_vectorized, ord='fro')\n",
    "print('Loss difference: %f' % np.abs(loss_naive - loss_vectorized))\n",
    "print('Gradient difference: %f' % grad_difference)"
   ]
  },
  {
   "cell_type": "code",
   "execution_count": 6,
   "metadata": {
    "tags": [
     "code"
    ],
    "test": "tuning"
   },
   "outputs": [
    {
     "name": "stderr",
     "output_type": "stream",
     "text": [
      "D:\\1课程资料\\大四上\\even_cs231n\\assignment1\\cs231n\\classifiers\\softmax.py:91: RuntimeWarning: divide by zero encountered in log\n",
      "  loss = -np.sum(np.log(p[range(num_train), y]))\n",
      "D:\\1课程资料\\大四上\\even_cs231n\\assignment1\\cs231n\\classifiers\\softmax.py:93: RuntimeWarning: overflow encountered in double_scalars\n",
      "  loss += 1/2 * reg * np.sum(W * W)\n",
      "D:\\Anaconda3\\envs\\cs231n\\lib\\site-packages\\numpy\\core\\fromnumeric.py:87: RuntimeWarning: overflow encountered in reduce\n",
      "  return ufunc.reduce(obj, axis, dtype, out, **passkwargs)\n",
      "D:\\1课程资料\\大四上\\even_cs231n\\assignment1\\cs231n\\classifiers\\softmax.py:93: RuntimeWarning: overflow encountered in multiply\n",
      "  loss += 1/2 * reg * np.sum(W * W)\n"
     ]
    },
    {
     "name": "stdout",
     "output_type": "stream",
     "text": [
      "lr 1.000000e-08 reg 1.000000e+04 train accuracy: 0.142776 val accuracy: 0.151000\n",
      "lr 1.000000e-08 reg 2.000000e+04 train accuracy: 0.162612 val accuracy: 0.183000\n",
      "lr 1.000000e-08 reg 2.500000e+04 train accuracy: 0.138265 val accuracy: 0.150000\n",
      "lr 1.000000e-08 reg 3.000000e+04 train accuracy: 0.139612 val accuracy: 0.153000\n",
      "lr 1.000000e-08 reg 4.000000e+04 train accuracy: 0.148694 val accuracy: 0.155000\n",
      "lr 1.000000e-08 reg 5.000000e+04 train accuracy: 0.149837 val accuracy: 0.133000\n",
      "lr 1.000000e-07 reg 1.000000e+04 train accuracy: 0.284531 val accuracy: 0.284000\n",
      "lr 1.000000e-07 reg 2.000000e+04 train accuracy: 0.333143 val accuracy: 0.351000\n",
      "lr 1.000000e-07 reg 2.500000e+04 train accuracy: 0.337041 val accuracy: 0.350000\n",
      "lr 1.000000e-07 reg 3.000000e+04 train accuracy: 0.338878 val accuracy: 0.353000\n",
      "lr 1.000000e-07 reg 4.000000e+04 train accuracy: 0.334000 val accuracy: 0.338000\n",
      "lr 1.000000e-07 reg 5.000000e+04 train accuracy: 0.332347 val accuracy: 0.347000\n",
      "lr 1.000000e-06 reg 1.000000e+04 train accuracy: 0.364510 val accuracy: 0.381000\n",
      "lr 1.000000e-06 reg 2.000000e+04 train accuracy: 0.356143 val accuracy: 0.362000\n",
      "lr 1.000000e-06 reg 2.500000e+04 train accuracy: 0.341673 val accuracy: 0.351000\n",
      "lr 1.000000e-06 reg 3.000000e+04 train accuracy: 0.342469 val accuracy: 0.346000\n",
      "lr 1.000000e-06 reg 4.000000e+04 train accuracy: 0.323735 val accuracy: 0.325000\n",
      "lr 1.000000e-06 reg 5.000000e+04 train accuracy: 0.321061 val accuracy: 0.335000\n",
      "lr 1.000000e-05 reg 1.000000e+04 train accuracy: 0.215020 val accuracy: 0.228000\n",
      "lr 1.000000e-05 reg 2.000000e+04 train accuracy: 0.154673 val accuracy: 0.157000\n",
      "lr 1.000000e-05 reg 2.500000e+04 train accuracy: 0.189143 val accuracy: 0.202000\n",
      "lr 1.000000e-05 reg 3.000000e+04 train accuracy: 0.145735 val accuracy: 0.147000\n",
      "lr 1.000000e-05 reg 4.000000e+04 train accuracy: 0.162939 val accuracy: 0.143000\n",
      "lr 1.000000e-05 reg 5.000000e+04 train accuracy: 0.132531 val accuracy: 0.128000\n",
      "lr 2.000000e-05 reg 1.000000e+04 train accuracy: 0.175959 val accuracy: 0.164000\n",
      "lr 2.000000e-05 reg 2.000000e+04 train accuracy: 0.149429 val accuracy: 0.158000\n",
      "lr 2.000000e-05 reg 2.500000e+04 train accuracy: 0.089837 val accuracy: 0.088000\n",
      "lr 2.000000e-05 reg 3.000000e+04 train accuracy: 0.094204 val accuracy: 0.096000\n",
      "lr 2.000000e-05 reg 4.000000e+04 train accuracy: 0.145143 val accuracy: 0.147000\n",
      "lr 2.000000e-05 reg 5.000000e+04 train accuracy: 0.075061 val accuracy: 0.092000\n",
      "lr 3.000000e-05 reg 1.000000e+04 train accuracy: 0.174286 val accuracy: 0.186000\n",
      "lr 3.000000e-05 reg 2.000000e+04 train accuracy: 0.123490 val accuracy: 0.123000\n",
      "lr 3.000000e-05 reg 2.500000e+04 train accuracy: 0.084388 val accuracy: 0.101000\n",
      "lr 3.000000e-05 reg 3.000000e+04 train accuracy: 0.103510 val accuracy: 0.107000\n",
      "lr 3.000000e-05 reg 4.000000e+04 train accuracy: 0.110327 val accuracy: 0.104000\n",
      "lr 3.000000e-05 reg 5.000000e+04 train accuracy: 0.062286 val accuracy: 0.043000\n",
      "lr 4.000000e-05 reg 1.000000e+04 train accuracy: 0.121816 val accuracy: 0.122000\n",
      "lr 4.000000e-05 reg 2.000000e+04 train accuracy: 0.073265 val accuracy: 0.066000\n",
      "lr 4.000000e-05 reg 2.500000e+04 train accuracy: 0.086265 val accuracy: 0.099000\n",
      "lr 4.000000e-05 reg 3.000000e+04 train accuracy: 0.144837 val accuracy: 0.156000\n",
      "lr 4.000000e-05 reg 4.000000e+04 train accuracy: 0.091469 val accuracy: 0.081000\n",
      "lr 4.000000e-05 reg 5.000000e+04 train accuracy: 0.132306 val accuracy: 0.141000\n",
      "lr 5.000000e-05 reg 1.000000e+04 train accuracy: 0.163102 val accuracy: 0.165000\n",
      "lr 5.000000e-05 reg 2.000000e+04 train accuracy: 0.065816 val accuracy: 0.068000\n",
      "lr 5.000000e-05 reg 2.500000e+04 train accuracy: 0.085490 val accuracy: 0.099000\n",
      "lr 5.000000e-05 reg 3.000000e+04 train accuracy: 0.061490 val accuracy: 0.062000\n",
      "lr 5.000000e-05 reg 4.000000e+04 train accuracy: 0.059918 val accuracy: 0.061000\n",
      "lr 5.000000e-05 reg 5.000000e+04 train accuracy: 0.079184 val accuracy: 0.083000\n",
      "best validation accuracy achieved during cross-validation: 0.381000\n"
     ]
    }
   ],
   "source": [
    "# Use the validation set to tune hyperparameters (regularization strength and\n",
    "# learning rate). You should experiment with different ranges for the learning\n",
    "# rates and regularization strengths; if you are careful you should be able to\n",
    "# get a classification accuracy of over 0.35 on the validation set.\n",
    "\n",
    "from cs231n.classifiers import Softmax\n",
    "results = {}\n",
    "best_val = -1\n",
    "best_softmax = None\n",
    "\n",
    "################################################################################\n",
    "# TODO:                                                                        #\n",
    "# Use the validation set to set the learning rate and regularization strength. #\n",
    "# This should be identical to the validation that you did for the SVM; save    #\n",
    "# the best trained softmax classifer in best_softmax.                          #\n",
    "################################################################################\n",
    "\n",
    "# Provided as a reference. You may or may not want to change these hyperparameters\n",
    "learning_rates = [1e-8, 1e-7, 1e-6, 1e-5, 2e-5, 3e-5,4e-5, 5e-5]\n",
    "regularization_strengths = [1e4, 2.5e4, 2e4, 3e4, 4e4, 5e4]\n",
    "\n",
    "# *****START OF YOUR CODE (DO NOT DELETE/MODIFY THIS LINE)*****\n",
    "for lr in learning_rates:\n",
    "    for reg in regularization_strengths:\n",
    "        softmax = Softmax()\n",
    "        softmax.train(X_train, y_train, learning_rate=lr, reg=reg,\n",
    "                              num_iters=1000, verbose=False)\n",
    "        y_train_pred = softmax.predict(X_train)\n",
    "        y_val_pred = softmax.predict(X_val)\n",
    "        train_accuracy = np.mean(y_train == y_train_pred)\n",
    "        val_accuracy = np.mean(y_val == y_val_pred)\n",
    "        if val_accuracy > best_val:\n",
    "            best_softmax = softmax\n",
    "            best_val = val_accuracy\n",
    "        results[(lr, reg)] = (train_accuracy, val_accuracy)\n",
    "        \n",
    "\n",
    "# *****END OF YOUR CODE (DO NOT DELETE/MODIFY THIS LINE)*****\n",
    "    \n",
    "# Print out results.\n",
    "for lr, reg in sorted(results):\n",
    "    train_accuracy, val_accuracy = results[(lr, reg)]\n",
    "    print('lr %e reg %e train accuracy: %f val accuracy: %f' % (\n",
    "                lr, reg, train_accuracy, val_accuracy))\n",
    "    \n",
    "print('best validation accuracy achieved during cross-validation: %f' % best_val)"
   ]
  },
  {
   "cell_type": "code",
   "execution_count": 7,
   "metadata": {
    "test": "test"
   },
   "outputs": [
    {
     "name": "stdout",
     "output_type": "stream",
     "text": [
      "softmax on raw pixels final test set accuracy: 0.384000\n"
     ]
    }
   ],
   "source": [
    "# evaluate on test set\n",
    "# Evaluate the best softmax on test set\n",
    "y_test_pred = best_softmax.predict(X_test)\n",
    "test_accuracy = np.mean(y_test == y_test_pred)\n",
    "print('softmax on raw pixels final test set accuracy: %f' % (test_accuracy, ))"
   ]
  },
  {
   "cell_type": "markdown",
   "metadata": {
    "tags": [
     "pdf-inline"
    ]
   },
   "source": [
    "**Inline Question 2** - *True or False*\n",
    "\n",
    "Suppose the overall training loss is defined as the sum of the per-datapoint loss over all training examples. It is possible to add a new datapoint to a training set that would leave the SVM loss unchanged, but this is not the case with the Softmax classifier loss.\n",
    "\n",
    "$\\color{blue}{\\textit Your Answer:}$\n",
    "\n",
    "Yes\n",
    "\n",
    "$\\color{blue}{\\textit Your Explanation:}$\n",
    "\n"
   ]
  },
  {
   "cell_type": "code",
   "execution_count": 8,
   "metadata": {},
   "outputs": [
    {
     "data": {
      "image/png": "[encoded data removed]",
      "text/plain": [
       "<Figure size 720x576 with 10 Axes>"
      ]
     },
     "metadata": {
      "needs_background": "light"
     },
     "output_type": "display_data"
    }
   ],
   "source": [
    "# Visualize the learned weights for each class\n",
    "w = best_softmax.W[:-1,:] # strip out the bias\n",
    "w = w.reshape(32, 32, 3, 10)\n",
    "\n",
    "w_min, w_max = np.min(w), np.max(w)\n",
    "\n",
    "classes = ['plane', 'car', 'bird', 'cat', 'deer', 'dog', 'frog', 'horse', 'ship', 'truck']\n",
    "for i in range(10):\n",
    "    plt.subplot(2, 5, i + 1)\n",
    "    \n",
    "    # Rescale the weights to be between 0 and 255\n",
    "    wimg = 255.0 * (w[:, :, :, i].squeeze() - w_min) / (w_max - w_min)\n",
    "    plt.imshow(wimg.astype('uint8'))\n",
    "    plt.axis('off')\n",
    "    plt.title(classes[i])"
   ]
  },
  {
   "cell_type": "code",
   "execution_count": null,
   "metadata": {},
   "outputs": [],
   "source": []
  }
 ],
 "metadata": {
  "kernelspec": {
   "display_name": "cs231n",
   "language": "python",
   "name": "cs231n"
  },
  "language_info": {
   "codemirror_mode": {
    "name": "ipython",
    "version": 3
   },
   "file_extension": ".py",
   "mimetype": "text/x-python",
   "name": "python",
   "nbconvert_exporter": "python",
   "pygments_lexer": "ipython3",
   "version": "3.6.13"
  }
 },
 "nbformat": 4,
 "nbformat_minor": 5
}
